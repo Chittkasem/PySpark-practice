{
  "nbformat": 4,
  "nbformat_minor": 0,
  "metadata": {
    "colab": {
      "provenance": [],
      "toc_visible": true,
      "authorship_tag": "ABX9TyOFdyOhQwL7995gvI0+sCiU",
      "include_colab_link": true
    },
    "kernelspec": {
      "name": "python3",
      "display_name": "Python 3"
    },
    "language_info": {
      "name": "python"
    }
  },
  "cells": [
    {
      "cell_type": "markdown",
      "metadata": {
        "id": "view-in-github",
        "colab_type": "text"
      },
      "source": [
        "<a href=\"https://colab.research.google.com/github/Chittkasem/PySpark-practice/blob/main/Pyspark_Dataframe_Part_1.ipynb\" target=\"_parent\"><img src=\"https://colab.research.google.com/assets/colab-badge.svg\" alt=\"Open In Colab\"/></a>"
      ]
    },
    {
      "cell_type": "markdown",
      "source": [
        "**In this video we will cover**\n",
        "\n",
        "\n",
        "*   PySpark Dataframe\n",
        "*   Reading the dataset\n",
        "*   Checking the datatypes of the column(Scheme)\n",
        "*   Selecting columns and indexing\n",
        "*   Check describe option similar to pandas\n",
        "*   Adding columns\n",
        "*   Dropping columns\n",
        "*   Renaming columns\n",
        "\n",
        "\n",
        "\n"
      ],
      "metadata": {
        "id": "gzaBOfxB1vWC"
      }
    },
    {
      "cell_type": "markdown",
      "source": [
        "How to download data from kaggle : https://www.kaggle.com/discussions/general/74235"
      ],
      "metadata": {
        "id": "v0QsUKDb47if"
      }
    },
    {
      "cell_type": "code",
      "execution_count": 1,
      "metadata": {
        "id": "e89n5gXt1mmi"
      },
      "outputs": [],
      "source": [
        "! pip install -q kaggle"
      ]
    },
    {
      "cell_type": "code",
      "source": [
        "! pip install pyspark"
      ],
      "metadata": {
        "colab": {
          "base_uri": "https://localhost:8080/"
        },
        "id": "xmBd5rFp5ZF9",
        "outputId": "7f265c96-6187-4cb2-d5ed-872b016fdd28"
      },
      "execution_count": 4,
      "outputs": [
        {
          "output_type": "stream",
          "name": "stdout",
          "text": [
            "Collecting pyspark\n",
            "  Downloading pyspark-3.4.1.tar.gz (310.8 MB)\n",
            "\u001b[2K     \u001b[90m━━━━━━━━━━━━━━━━━━━━━━━━━━━━━━━━━━━━━━━\u001b[0m \u001b[32m310.8/310.8 MB\u001b[0m \u001b[31m3.8 MB/s\u001b[0m eta \u001b[36m0:00:00\u001b[0m\n",
            "\u001b[?25h  Preparing metadata (setup.py) ... \u001b[?25l\u001b[?25hdone\n",
            "Requirement already satisfied: py4j==0.10.9.7 in /usr/local/lib/python3.10/dist-packages (from pyspark) (0.10.9.7)\n",
            "Building wheels for collected packages: pyspark\n",
            "  Building wheel for pyspark (setup.py) ... \u001b[?25l\u001b[?25hdone\n",
            "  Created wheel for pyspark: filename=pyspark-3.4.1-py2.py3-none-any.whl size=311285397 sha256=19251652ef7ade2baa16c67da6f8fb686e561146b04d01c11f3186b5990fd8a9\n",
            "  Stored in directory: /root/.cache/pip/wheels/0d/77/a3/ff2f74cc9ab41f8f594dabf0579c2a7c6de920d584206e0834\n",
            "Successfully built pyspark\n",
            "Installing collected packages: pyspark\n",
            "Successfully installed pyspark-3.4.1\n"
          ]
        }
      ]
    },
    {
      "cell_type": "code",
      "source": [
        "from google.colab import files\n",
        "files.upload()"
      ],
      "metadata": {
        "id": "Sae2RXpF2fhV"
      },
      "execution_count": null,
      "outputs": []
    },
    {
      "cell_type": "code",
      "source": [
        "from pyspark.sql import SparkSession"
      ],
      "metadata": {
        "id": "52AqmqWK4qdQ"
      },
      "execution_count": 5,
      "outputs": []
    },
    {
      "cell_type": "code",
      "source": [
        "spark = SparkSession.builder.appName('Practice_Dataframe').getOrCreate()"
      ],
      "metadata": {
        "id": "gz7SkHYZ5Ult"
      },
      "execution_count": 6,
      "outputs": []
    },
    {
      "cell_type": "code",
      "source": [
        "spark"
      ],
      "metadata": {
        "colab": {
          "base_uri": "https://localhost:8080/",
          "height": 219
        },
        "id": "7vck3HJu5_Nf",
        "outputId": "a1e6b522-d40b-4cd7-d479-677692f8df07"
      },
      "execution_count": 7,
      "outputs": [
        {
          "output_type": "execute_result",
          "data": {
            "text/plain": [
              "<pyspark.sql.session.SparkSession at 0x7bbb2c504e80>"
            ],
            "text/html": [
              "\n",
              "            <div>\n",
              "                <p><b>SparkSession - in-memory</b></p>\n",
              "                \n",
              "        <div>\n",
              "            <p><b>SparkContext</b></p>\n",
              "\n",
              "            <p><a href=\"http://632f3c45b27d:4040\">Spark UI</a></p>\n",
              "\n",
              "            <dl>\n",
              "              <dt>Version</dt>\n",
              "                <dd><code>v3.4.1</code></dd>\n",
              "              <dt>Master</dt>\n",
              "                <dd><code>local[*]</code></dd>\n",
              "              <dt>AppName</dt>\n",
              "                <dd><code>Practice_Dataframe</code></dd>\n",
              "            </dl>\n",
              "        </div>\n",
              "        \n",
              "            </div>\n",
              "        "
            ]
          },
          "metadata": {},
          "execution_count": 7
        }
      ]
    },
    {
      "cell_type": "code",
      "source": [
        "## read the dataset\n",
        "spark.read.option('header','true').csv('/content/steam.csv').show(5)"
      ],
      "metadata": {
        "colab": {
          "base_uri": "https://localhost:8080/"
        },
        "id": "asAtrAxt6CI6",
        "outputId": "b35177c6-3934-4285-dfce-7f5a5093abaa"
      },
      "execution_count": 26,
      "outputs": [
        {
          "output_type": "stream",
          "name": "stdout",
          "text": [
            "+-----+--------------------+------------+-------+----------------+---------+-----------------+------------+--------------------+------+--------------------+------------+----------------+----------------+----------------+---------------+-----------------+-----+\n",
            "|appid|                name|release_date|english|       developer|publisher|        platforms|required_age|          categories|genres|       steamspy_tags|achievements|positive_ratings|negative_ratings|average_playtime|median_playtime|           owners|price|\n",
            "+-----+--------------------+------------+-------+----------------+---------+-----------------+------------+--------------------+------+--------------------+------------+----------------+----------------+----------------+---------------+-----------------+-----+\n",
            "|   10|      Counter-Strike|  2000-11-01|      1|           Valve|    Valve|windows;mac;linux|           0|Multi-player;Onli...|Action|Action;FPS;Multip...|           0|          124534|            3339|           17612|            317|10000000-20000000| 7.19|\n",
            "|   20|Team Fortress Cla...|  1999-04-01|      1|           Valve|    Valve|windows;mac;linux|           0|Multi-player;Onli...|Action|Action;FPS;Multip...|           0|            3318|             633|             277|             62| 5000000-10000000| 3.99|\n",
            "|   30|       Day of Defeat|  2003-05-01|      1|           Valve|    Valve|windows;mac;linux|           0|Multi-player;Valv...|Action|FPS;World War II;...|           0|            3416|             398|             187|             34| 5000000-10000000| 3.99|\n",
            "|   40|  Deathmatch Classic|  2001-06-01|      1|           Valve|    Valve|windows;mac;linux|           0|Multi-player;Onli...|Action|Action;FPS;Multip...|           0|            1273|             267|             258|            184| 5000000-10000000| 3.99|\n",
            "|   50|Half-Life: Opposi...|  1999-11-01|      1|Gearbox Software|    Valve|windows;mac;linux|           0|Single-player;Mul...|Action|   FPS;Action;Sci-fi|           0|            5250|             288|             624|            415| 5000000-10000000| 3.99|\n",
            "+-----+--------------------+------------+-------+----------------+---------+-----------------+------------+--------------------+------+--------------------+------------+----------------+----------------+----------------+---------------+-----------------+-----+\n",
            "only showing top 5 rows\n",
            "\n"
          ]
        }
      ]
    },
    {
      "cell_type": "code",
      "source": [
        "## Reading the dataset include header\n",
        "df_pyspark = spark.read.option('header','true').csv('/content/steam.csv')"
      ],
      "metadata": {
        "id": "l0z9K2ZM6i9f"
      },
      "execution_count": 10,
      "outputs": []
    },
    {
      "cell_type": "code",
      "source": [
        "## Check the schema\n",
        "df_pyspark.printSchema()"
      ],
      "metadata": {
        "colab": {
          "base_uri": "https://localhost:8080/"
        },
        "id": "ZqnmZN4R6VJl",
        "outputId": "458aba7d-a08a-4d42-f9a1-394679b5915f"
      },
      "execution_count": 11,
      "outputs": [
        {
          "output_type": "stream",
          "name": "stdout",
          "text": [
            "root\n",
            " |-- appid: string (nullable = true)\n",
            " |-- name: string (nullable = true)\n",
            " |-- release_date: string (nullable = true)\n",
            " |-- english: string (nullable = true)\n",
            " |-- developer: string (nullable = true)\n",
            " |-- publisher: string (nullable = true)\n",
            " |-- platforms: string (nullable = true)\n",
            " |-- required_age: string (nullable = true)\n",
            " |-- categories: string (nullable = true)\n",
            " |-- genres: string (nullable = true)\n",
            " |-- steamspy_tags: string (nullable = true)\n",
            " |-- achievements: string (nullable = true)\n",
            " |-- positive_ratings: string (nullable = true)\n",
            " |-- negative_ratings: string (nullable = true)\n",
            " |-- average_playtime: string (nullable = true)\n",
            " |-- median_playtime: string (nullable = true)\n",
            " |-- owners: string (nullable = true)\n",
            " |-- price: string (nullable = true)\n",
            "\n"
          ]
        }
      ]
    },
    {
      "cell_type": "code",
      "source": [
        "## Reading the dataset include header and Checking the datatypes of the column(Scheme)\n",
        "df_pyspark = spark.read.option('header','true').csv('/content/steam.csv', inferSchema=True)"
      ],
      "metadata": {
        "id": "Qe1lmizs6thH"
      },
      "execution_count": 12,
      "outputs": []
    },
    {
      "cell_type": "code",
      "source": [
        "## Checking the datatypes of the column(Scheme)\n",
        "df_pyspark.printSchema()"
      ],
      "metadata": {
        "colab": {
          "base_uri": "https://localhost:8080/"
        },
        "id": "pMXAjd9X6-m7",
        "outputId": "323a16c0-5d60-4125-aa56-e7b15b8b7a3e"
      },
      "execution_count": 13,
      "outputs": [
        {
          "output_type": "stream",
          "name": "stdout",
          "text": [
            "root\n",
            " |-- appid: integer (nullable = true)\n",
            " |-- name: string (nullable = true)\n",
            " |-- release_date: string (nullable = true)\n",
            " |-- english: string (nullable = true)\n",
            " |-- developer: string (nullable = true)\n",
            " |-- publisher: string (nullable = true)\n",
            " |-- platforms: string (nullable = true)\n",
            " |-- required_age: string (nullable = true)\n",
            " |-- categories: string (nullable = true)\n",
            " |-- genres: string (nullable = true)\n",
            " |-- steamspy_tags: string (nullable = true)\n",
            " |-- achievements: string (nullable = true)\n",
            " |-- positive_ratings: string (nullable = true)\n",
            " |-- negative_ratings: integer (nullable = true)\n",
            " |-- average_playtime: integer (nullable = true)\n",
            " |-- median_playtime: integer (nullable = true)\n",
            " |-- owners: string (nullable = true)\n",
            " |-- price: string (nullable = true)\n",
            "\n"
          ]
        }
      ]
    },
    {
      "cell_type": "code",
      "source": [
        "## Reading the dataset include header and detect type of data\n",
        "df_pyspark = spark.read.csv('/content/steam.csv', header=True, inferSchema=True)\n",
        "df_pyspark.show(5)"
      ],
      "metadata": {
        "colab": {
          "base_uri": "https://localhost:8080/"
        },
        "id": "SgeZfWp17Ait",
        "outputId": "69f196c2-5809-4b21-aa38-dcd983e05f9d"
      },
      "execution_count": 25,
      "outputs": [
        {
          "output_type": "stream",
          "name": "stdout",
          "text": [
            "+-----+--------------------+------------+-------+----------------+---------+-----------------+------------+--------------------+------+--------------------+------------+----------------+----------------+----------------+---------------+-----------------+-----+\n",
            "|appid|                name|release_date|english|       developer|publisher|        platforms|required_age|          categories|genres|       steamspy_tags|achievements|positive_ratings|negative_ratings|average_playtime|median_playtime|           owners|price|\n",
            "+-----+--------------------+------------+-------+----------------+---------+-----------------+------------+--------------------+------+--------------------+------------+----------------+----------------+----------------+---------------+-----------------+-----+\n",
            "|   10|      Counter-Strike|  2000-11-01|      1|           Valve|    Valve|windows;mac;linux|           0|Multi-player;Onli...|Action|Action;FPS;Multip...|           0|          124534|            3339|           17612|            317|10000000-20000000| 7.19|\n",
            "|   20|Team Fortress Cla...|  1999-04-01|      1|           Valve|    Valve|windows;mac;linux|           0|Multi-player;Onli...|Action|Action;FPS;Multip...|           0|            3318|             633|             277|             62| 5000000-10000000| 3.99|\n",
            "|   30|       Day of Defeat|  2003-05-01|      1|           Valve|    Valve|windows;mac;linux|           0|Multi-player;Valv...|Action|FPS;World War II;...|           0|            3416|             398|             187|             34| 5000000-10000000| 3.99|\n",
            "|   40|  Deathmatch Classic|  2001-06-01|      1|           Valve|    Valve|windows;mac;linux|           0|Multi-player;Onli...|Action|Action;FPS;Multip...|           0|            1273|             267|             258|            184| 5000000-10000000| 3.99|\n",
            "|   50|Half-Life: Opposi...|  1999-11-01|      1|Gearbox Software|    Valve|windows;mac;linux|           0|Single-player;Mul...|Action|   FPS;Action;Sci-fi|           0|            5250|             288|             624|            415| 5000000-10000000| 3.99|\n",
            "+-----+--------------------+------------+-------+----------------+---------+-----------------+------------+--------------------+------+--------------------+------------+----------------+----------------+----------------+---------------+-----------------+-----+\n",
            "only showing top 5 rows\n",
            "\n"
          ]
        }
      ]
    },
    {
      "cell_type": "code",
      "source": [
        "## Checking the datatypes of the column(Scheme)\n",
        "df_pyspark.printSchema()"
      ],
      "metadata": {
        "colab": {
          "base_uri": "https://localhost:8080/"
        },
        "id": "XWPftmip7bq2",
        "outputId": "955d84f3-7c3c-4b2a-ef85-3b88386a5d29"
      },
      "execution_count": 15,
      "outputs": [
        {
          "output_type": "stream",
          "name": "stdout",
          "text": [
            "root\n",
            " |-- appid: integer (nullable = true)\n",
            " |-- name: string (nullable = true)\n",
            " |-- release_date: string (nullable = true)\n",
            " |-- english: string (nullable = true)\n",
            " |-- developer: string (nullable = true)\n",
            " |-- publisher: string (nullable = true)\n",
            " |-- platforms: string (nullable = true)\n",
            " |-- required_age: string (nullable = true)\n",
            " |-- categories: string (nullable = true)\n",
            " |-- genres: string (nullable = true)\n",
            " |-- steamspy_tags: string (nullable = true)\n",
            " |-- achievements: string (nullable = true)\n",
            " |-- positive_ratings: string (nullable = true)\n",
            " |-- negative_ratings: integer (nullable = true)\n",
            " |-- average_playtime: integer (nullable = true)\n",
            " |-- median_playtime: integer (nullable = true)\n",
            " |-- owners: string (nullable = true)\n",
            " |-- price: string (nullable = true)\n",
            "\n"
          ]
        }
      ]
    },
    {
      "cell_type": "code",
      "source": [
        "type(df_pyspark)"
      ],
      "metadata": {
        "colab": {
          "base_uri": "https://localhost:8080/"
        },
        "id": "TLMcrjCP7kVU",
        "outputId": "5856c54b-e9ce-4ab8-8a27-3e755a8f1ebc"
      },
      "execution_count": 16,
      "outputs": [
        {
          "output_type": "execute_result",
          "data": {
            "text/plain": [
              "pyspark.sql.dataframe.DataFrame"
            ]
          },
          "metadata": {},
          "execution_count": 16
        }
      ]
    },
    {
      "cell_type": "code",
      "source": [
        "## Selecting columns and indexing\n",
        "df_pyspark.columns"
      ],
      "metadata": {
        "colab": {
          "base_uri": "https://localhost:8080/"
        },
        "id": "cWk_P09b7m4d",
        "outputId": "c2902149-47a1-4c53-de52-69796af9a38b"
      },
      "execution_count": 17,
      "outputs": [
        {
          "output_type": "execute_result",
          "data": {
            "text/plain": [
              "['appid',\n",
              " 'name',\n",
              " 'release_date',\n",
              " 'english',\n",
              " 'developer',\n",
              " 'publisher',\n",
              " 'platforms',\n",
              " 'required_age',\n",
              " 'categories',\n",
              " 'genres',\n",
              " 'steamspy_tags',\n",
              " 'achievements',\n",
              " 'positive_ratings',\n",
              " 'negative_ratings',\n",
              " 'average_playtime',\n",
              " 'median_playtime',\n",
              " 'owners',\n",
              " 'price']"
            ]
          },
          "metadata": {},
          "execution_count": 17
        }
      ]
    },
    {
      "cell_type": "code",
      "source": [
        "df_pyspark.head(3)"
      ],
      "metadata": {
        "colab": {
          "base_uri": "https://localhost:8080/"
        },
        "id": "ASwMF8Dm8V-V",
        "outputId": "c2a551cf-ff0a-4e2e-c760-0ed69528c218"
      },
      "execution_count": 18,
      "outputs": [
        {
          "output_type": "execute_result",
          "data": {
            "text/plain": [
              "[Row(appid=10, name='Counter-Strike', release_date='2000-11-01', english='1', developer='Valve', publisher='Valve', platforms='windows;mac;linux', required_age='0', categories='Multi-player;Online Multi-Player;Local Multi-Player;Valve Anti-Cheat enabled', genres='Action', steamspy_tags='Action;FPS;Multiplayer', achievements='0', positive_ratings='124534', negative_ratings=3339, average_playtime=17612, median_playtime=317, owners='10000000-20000000', price='7.19'),\n",
              " Row(appid=20, name='Team Fortress Classic', release_date='1999-04-01', english='1', developer='Valve', publisher='Valve', platforms='windows;mac;linux', required_age='0', categories='Multi-player;Online Multi-Player;Local Multi-Player;Valve Anti-Cheat enabled', genres='Action', steamspy_tags='Action;FPS;Multiplayer', achievements='0', positive_ratings='3318', negative_ratings=633, average_playtime=277, median_playtime=62, owners='5000000-10000000', price='3.99'),\n",
              " Row(appid=30, name='Day of Defeat', release_date='2003-05-01', english='1', developer='Valve', publisher='Valve', platforms='windows;mac;linux', required_age='0', categories='Multi-player;Valve Anti-Cheat enabled', genres='Action', steamspy_tags='FPS;World War II;Multiplayer', achievements='0', positive_ratings='3416', negative_ratings=398, average_playtime=187, median_playtime=34, owners='5000000-10000000', price='3.99')]"
            ]
          },
          "metadata": {},
          "execution_count": 18
        }
      ]
    },
    {
      "cell_type": "code",
      "source": [
        "## Pick up only name column\n",
        "df_pyspark.select('name')"
      ],
      "metadata": {
        "colab": {
          "base_uri": "https://localhost:8080/"
        },
        "id": "47EjMcVA8cwe",
        "outputId": "0d9d5846-120c-44f7-f641-a1d8f852976e"
      },
      "execution_count": 21,
      "outputs": [
        {
          "output_type": "execute_result",
          "data": {
            "text/plain": [
              "DataFrame[name: string]"
            ]
          },
          "metadata": {},
          "execution_count": 21
        }
      ]
    },
    {
      "cell_type": "code",
      "source": [
        "df_pyspark.select('name').show(5)"
      ],
      "metadata": {
        "colab": {
          "base_uri": "https://localhost:8080/"
        },
        "id": "B64Ao1sh8xJD",
        "outputId": "9ef1ede5-db75-4e8d-ce39-ec6740ffc004"
      },
      "execution_count": 24,
      "outputs": [
        {
          "output_type": "stream",
          "name": "stdout",
          "text": [
            "+--------------------+\n",
            "|                name|\n",
            "+--------------------+\n",
            "|      Counter-Strike|\n",
            "|Team Fortress Cla...|\n",
            "|       Day of Defeat|\n",
            "|  Deathmatch Classic|\n",
            "|Half-Life: Opposi...|\n",
            "+--------------------+\n",
            "only showing top 5 rows\n",
            "\n"
          ]
        }
      ]
    },
    {
      "cell_type": "code",
      "source": [
        "type(df_pyspark.select('name'))"
      ],
      "metadata": {
        "colab": {
          "base_uri": "https://localhost:8080/"
        },
        "id": "WbNWHNLP9F-c",
        "outputId": "3614de37-f0dd-468e-8464-78f79c25b04c"
      },
      "execution_count": 27,
      "outputs": [
        {
          "output_type": "execute_result",
          "data": {
            "text/plain": [
              "pyspark.sql.dataframe.DataFrame"
            ]
          },
          "metadata": {},
          "execution_count": 27
        }
      ]
    },
    {
      "cell_type": "code",
      "source": [
        "## Pick up mutiple columns\n",
        "df_pyspark.select(['name', 'owners', 'price']).show(3)"
      ],
      "metadata": {
        "colab": {
          "base_uri": "https://localhost:8080/"
        },
        "id": "8I71uYhP9beb",
        "outputId": "9ddb3186-1026-4f73-8b70-879e78007fa7"
      },
      "execution_count": 29,
      "outputs": [
        {
          "output_type": "stream",
          "name": "stdout",
          "text": [
            "+--------------------+-----------------+-----+\n",
            "|                name|           owners|price|\n",
            "+--------------------+-----------------+-----+\n",
            "|      Counter-Strike|10000000-20000000| 7.19|\n",
            "|Team Fortress Cla...| 5000000-10000000| 3.99|\n",
            "|       Day of Defeat| 5000000-10000000| 3.99|\n",
            "+--------------------+-----------------+-----+\n",
            "only showing top 3 rows\n",
            "\n"
          ]
        }
      ]
    },
    {
      "cell_type": "code",
      "source": [
        "df_pyspark.select(['name', 'owners', 'price'])"
      ],
      "metadata": {
        "colab": {
          "base_uri": "https://localhost:8080/"
        },
        "id": "M-xQSuhs9vjq",
        "outputId": "69806c48-d87c-4475-8c16-63d61c27c342"
      },
      "execution_count": 30,
      "outputs": [
        {
          "output_type": "execute_result",
          "data": {
            "text/plain": [
              "DataFrame[name: string, owners: string, price: string]"
            ]
          },
          "metadata": {},
          "execution_count": 30
        }
      ]
    },
    {
      "cell_type": "code",
      "source": [
        "df_pyspark['name']"
      ],
      "metadata": {
        "colab": {
          "base_uri": "https://localhost:8080/"
        },
        "id": "R-xRGJm895pM",
        "outputId": "141f1cde-885d-48a8-d59e-351b75fa243a"
      },
      "execution_count": 31,
      "outputs": [
        {
          "output_type": "execute_result",
          "data": {
            "text/plain": [
              "Column<'name'>"
            ]
          },
          "metadata": {},
          "execution_count": 31
        }
      ]
    },
    {
      "cell_type": "code",
      "source": [
        "## check the data type by pandas\n",
        "df_pyspark.dtypes"
      ],
      "metadata": {
        "colab": {
          "base_uri": "https://localhost:8080/"
        },
        "id": "5rpLB4MX-odC",
        "outputId": "48f006c7-6b55-4c75-a14e-5667c97e6e6e"
      },
      "execution_count": 35,
      "outputs": [
        {
          "output_type": "execute_result",
          "data": {
            "text/plain": [
              "[('appid', 'int'),\n",
              " ('name', 'string'),\n",
              " ('release_date', 'string'),\n",
              " ('english', 'string'),\n",
              " ('developer', 'string'),\n",
              " ('publisher', 'string'),\n",
              " ('platforms', 'string'),\n",
              " ('required_age', 'string'),\n",
              " ('categories', 'string'),\n",
              " ('genres', 'string'),\n",
              " ('steamspy_tags', 'string'),\n",
              " ('achievements', 'string'),\n",
              " ('positive_ratings', 'string'),\n",
              " ('negative_ratings', 'int'),\n",
              " ('average_playtime', 'int'),\n",
              " ('median_playtime', 'int'),\n",
              " ('owners', 'string'),\n",
              " ('price', 'string')]"
            ]
          },
          "metadata": {},
          "execution_count": 35
        }
      ]
    },
    {
      "cell_type": "code",
      "source": [
        "## check the data type by pyspark\n",
        "df_pyspark.describe()"
      ],
      "metadata": {
        "colab": {
          "base_uri": "https://localhost:8080/"
        },
        "id": "Yat9rlM_-w8Y",
        "outputId": "3ae85ff5-dc6d-4a57-eefd-742d07bf474c"
      },
      "execution_count": 36,
      "outputs": [
        {
          "output_type": "execute_result",
          "data": {
            "text/plain": [
              "DataFrame[summary: string, appid: string, name: string, release_date: string, english: string, developer: string, publisher: string, platforms: string, required_age: string, categories: string, genres: string, steamspy_tags: string, achievements: string, positive_ratings: string, negative_ratings: string, average_playtime: string, median_playtime: string, owners: string, price: string]"
            ]
          },
          "metadata": {},
          "execution_count": 36
        }
      ]
    },
    {
      "cell_type": "code",
      "source": [
        "## check the data type by pyspark\n",
        "df_pyspark.describe().show()"
      ],
      "metadata": {
        "colab": {
          "base_uri": "https://localhost:8080/"
        },
        "id": "_LgOlr1x_NTh",
        "outputId": "c846ca99-498d-4a2d-c352-ab7a61fd67fb"
      },
      "execution_count": 37,
      "outputs": [
        {
          "output_type": "stream",
          "name": "stdout",
          "text": [
            "+-------+------------------+---------------+--------------------+-------------------+--------------------+-----------------+-----------------+------------------+-----------------+--------------+--------------------+------------------+------------------+------------------+------------------+------------------+-----------------+-----------------+\n",
            "|summary|             appid|           name|        release_date|            english|           developer|        publisher|        platforms|      required_age|       categories|        genres|       steamspy_tags|      achievements|  positive_ratings|  negative_ratings|  average_playtime|   median_playtime|           owners|            price|\n",
            "+-------+------------------+---------------+--------------------+-------------------+--------------------+-----------------+-----------------+------------------+-----------------+--------------+--------------------+------------------+------------------+------------------+------------------+------------------+-----------------+-----------------+\n",
            "|  count|             27075|          27075|               27075|              27075|               27075|            27075|            27075|             27075|            27075|         27075|               27075|             27075|             27075|             27075|             27075|             27075|            27075|            27075|\n",
            "|   mean| 596203.5086611265|       Infinity|                null| 0.9811258033537712|           84536.875|           4002.0|             null|0.3549292653196912|              0.0|           0.0|                null| 45.25050788608577|1000.5392258255152|211.01669436749768| 149.8625300092336|146.06626038781164|              4.0|6.078307601389184|\n",
            "| stddev|250894.16724606144|            NaN|                null|0.13608322948942805|   235353.7731673852|161.0807251039056|             null| 2.406131388418183|             null|          null|                null|352.68320058791045| 18989.07473472804| 4284.938696185462|1827.0582385517323| 2353.880082351158|5.656854249492381| 7.87506419637378|\n",
            "|    min|                10| Fieldrunners 2| Please!\"\" Collec...|                  0|\"Andrew \"\"Versus\"...|                 |      \"\"Adiart\"\"\"|                 0|                0|             0|1980s;Great Sound...|                 0|                 0|                 0|                 0|                 0|                0|          0-20000|\n",
            "|    max|           1069460|   ＜/reality＞|          2019-05-01|         2018-03-30|              수프림|           수프림|windows;mac;linux|           windows|windows;mac;linux|Web Publishing|Zombies;World War...|Indie;RPG;Strategy|Strategy;Indie;RPG|            487076|            190625|            190625|                8|            98.99|\n",
            "+-------+------------------+---------------+--------------------+-------------------+--------------------+-----------------+-----------------+------------------+-----------------+--------------+--------------------+------------------+------------------+------------------+------------------+------------------+-----------------+-----------------+\n",
            "\n"
          ]
        }
      ]
    },
    {
      "cell_type": "code",
      "source": [
        "## Adding columns in dataframe\n",
        "df_pyspark.withColumn('required_age After 2 year', df_pyspark['required_age']+2).show()"
      ],
      "metadata": {
        "colab": {
          "base_uri": "https://localhost:8080/"
        },
        "id": "pAcNZDJG_RcV",
        "outputId": "6a6dffe6-3830-4158-893d-3855c9b38f14"
      },
      "execution_count": 40,
      "outputs": [
        {
          "output_type": "stream",
          "name": "stdout",
          "text": [
            "+-----+--------------------+------------+-------+----------------+---------+-----------------+------------+--------------------+-------------------+--------------------+------------+----------------+----------------+----------------+---------------+-----------------+-----+-------------------------+\n",
            "|appid|                name|release_date|english|       developer|publisher|        platforms|required_age|          categories|             genres|       steamspy_tags|achievements|positive_ratings|negative_ratings|average_playtime|median_playtime|           owners|price|required_age After 2 year|\n",
            "+-----+--------------------+------------+-------+----------------+---------+-----------------+------------+--------------------+-------------------+--------------------+------------+----------------+----------------+----------------+---------------+-----------------+-----+-------------------------+\n",
            "|   10|      Counter-Strike|  2000-11-01|      1|           Valve|    Valve|windows;mac;linux|           0|Multi-player;Onli...|             Action|Action;FPS;Multip...|           0|          124534|            3339|           17612|            317|10000000-20000000| 7.19|                      2.0|\n",
            "|   20|Team Fortress Cla...|  1999-04-01|      1|           Valve|    Valve|windows;mac;linux|           0|Multi-player;Onli...|             Action|Action;FPS;Multip...|           0|            3318|             633|             277|             62| 5000000-10000000| 3.99|                      2.0|\n",
            "|   30|       Day of Defeat|  2003-05-01|      1|           Valve|    Valve|windows;mac;linux|           0|Multi-player;Valv...|             Action|FPS;World War II;...|           0|            3416|             398|             187|             34| 5000000-10000000| 3.99|                      2.0|\n",
            "|   40|  Deathmatch Classic|  2001-06-01|      1|           Valve|    Valve|windows;mac;linux|           0|Multi-player;Onli...|             Action|Action;FPS;Multip...|           0|            1273|             267|             258|            184| 5000000-10000000| 3.99|                      2.0|\n",
            "|   50|Half-Life: Opposi...|  1999-11-01|      1|Gearbox Software|    Valve|windows;mac;linux|           0|Single-player;Mul...|             Action|   FPS;Action;Sci-fi|           0|            5250|             288|             624|            415| 5000000-10000000| 3.99|                      2.0|\n",
            "|   60|            Ricochet|  2000-11-01|      1|           Valve|    Valve|windows;mac;linux|           0|Multi-player;Onli...|             Action|Action;FPS;Multip...|           0|            2758|             684|             175|             10| 5000000-10000000| 3.99|                      2.0|\n",
            "|   70|           Half-Life|  1998-11-08|      1|           Valve|    Valve|windows;mac;linux|           0|Single-player;Mul...|             Action|  FPS;Classic;Action|           0|           27755|            1100|            1300|             83| 5000000-10000000| 7.19|                      2.0|\n",
            "|   80|Counter-Strike: C...|  2004-03-01|      1|           Valve|    Valve|windows;mac;linux|           0|Single-player;Mul...|             Action|Action;FPS;Multip...|           0|           12120|            1439|             427|             43|10000000-20000000| 7.19|                      2.0|\n",
            "|  130|Half-Life: Blue S...|  2001-06-01|      1|Gearbox Software|    Valve|windows;mac;linux|           0|       Single-player|             Action|   FPS;Action;Sci-fi|           0|            3822|             420|             361|            205| 5000000-10000000| 3.99|                      2.0|\n",
            "|  220|         Half-Life 2|  2004-11-16|      1|           Valve|    Valve|windows;mac;linux|           0|Single-player;Ste...|             Action|   FPS;Action;Sci-fi|          33|           67902|            2419|             691|            402|10000000-20000000| 7.19|                      2.0|\n",
            "|  240|Counter-Strike: S...|  2004-11-01|      1|           Valve|    Valve|windows;mac;linux|           0|Multi-player;Cros...|             Action|Action;FPS;Multip...|         147|           76640|            3497|            6842|            400|10000000-20000000| 7.19|                      2.0|\n",
            "|  280|   Half-Life: Source|  2004-06-01|      1|           Valve|    Valve|windows;mac;linux|           0|       Single-player|             Action|   FPS;Action;Sci-fi|           0|            3767|            1053|             190|            214|  2000000-5000000|  0.0|                      2.0|\n",
            "|  300|Day of Defeat: So...|  2010-07-12|      1|           Valve|    Valve|windows;mac;linux|           0|Multi-player;Cros...|             Action|FPS;World War II;...|          54|           10489|            1210|            1356|            134| 5000000-10000000| 7.19|                      2.0|\n",
            "|  320|Half-Life 2: Deat...|  2004-11-01|      1|           Valve|    Valve|windows;mac;linux|           0|Multi-player;Valv...|             Action|Action;FPS;Multip...|           0|            6020|             787|             311|             32|10000000-20000000| 3.99|                      2.0|\n",
            "|  340|Half-Life 2: Lost...|  2005-10-27|      1|           Valve|    Valve|windows;mac;linux|           0|Single-player;Com...|             Action|FPS;Action;Single...|           0|            5783|            1020|              46|             29|10000000-20000000|  0.0|                      2.0|\n",
            "|  360|Half-Life Deathma...|  2006-05-01|      1|           Valve|    Valve|windows;mac;linux|           0|Multi-player;Valv...|             Action|Action;FPS;Multip...|           0|            1362|             473|             102|             81| 5000000-10000000|  0.0|                      2.0|\n",
            "|  380|Half-Life 2: Epis...|  2006-06-01|      1|           Valve|    Valve|windows;mac;linux|           0|Single-player;Ste...|             Action|   FPS;Action;Sci-fi|          13|            7908|             517|             281|            184| 5000000-10000000| 5.79|                      2.0|\n",
            "|  400|              Portal|  2007-10-10|      1|           Valve|    Valve|windows;mac;linux|           0|Single-player;Ste...|             Action|Puzzle;First-Pers...|          15|           51801|            1080|             288|            137|10000000-20000000| 7.19|                      2.0|\n",
            "|  420|Half-Life 2: Epis...|  2007-10-10|      1|           Valve|    Valve|windows;mac;linux|           0|Single-player;Ste...|             Action|   FPS;Action;Sci-fi|          22|           13902|             696|             354|            301| 5000000-10000000| 5.79|                      2.0|\n",
            "|  440|     Team Fortress 2|  2007-10-10|      1|           Valve|    Valve|windows;mac;linux|           0|Multi-player;Cros...|Action;Free to Play|Free to Play;Mult...|         520|          515879|           34036|            8495|            623|20000000-50000000|  0.0|                      2.0|\n",
            "+-----+--------------------+------------+-------+----------------+---------+-----------------+------------+--------------------+-------------------+--------------------+------------+----------------+----------------+----------------+---------------+-----------------+-----+-------------------------+\n",
            "only showing top 20 rows\n",
            "\n"
          ]
        }
      ]
    },
    {
      "cell_type": "code",
      "source": [
        "df_py2 = df_pyspark.withColumn('required_age After 2 year', df_pyspark['required_age']+2)"
      ],
      "metadata": {
        "id": "eQFvkrzEAnQS"
      },
      "execution_count": 41,
      "outputs": []
    },
    {
      "cell_type": "code",
      "source": [
        "df_py2.show()"
      ],
      "metadata": {
        "colab": {
          "base_uri": "https://localhost:8080/"
        },
        "id": "jitIwlu3A4BW",
        "outputId": "9cde91e5-ed6f-4f9b-eeb8-e15ff6b55fc5"
      },
      "execution_count": 42,
      "outputs": [
        {
          "output_type": "stream",
          "name": "stdout",
          "text": [
            "+-----+--------------------+------------+-------+----------------+---------+-----------------+------------+--------------------+-------------------+--------------------+------------+----------------+----------------+----------------+---------------+-----------------+-----+-------------------------+\n",
            "|appid|                name|release_date|english|       developer|publisher|        platforms|required_age|          categories|             genres|       steamspy_tags|achievements|positive_ratings|negative_ratings|average_playtime|median_playtime|           owners|price|required_age After 2 year|\n",
            "+-----+--------------------+------------+-------+----------------+---------+-----------------+------------+--------------------+-------------------+--------------------+------------+----------------+----------------+----------------+---------------+-----------------+-----+-------------------------+\n",
            "|   10|      Counter-Strike|  2000-11-01|      1|           Valve|    Valve|windows;mac;linux|           0|Multi-player;Onli...|             Action|Action;FPS;Multip...|           0|          124534|            3339|           17612|            317|10000000-20000000| 7.19|                      2.0|\n",
            "|   20|Team Fortress Cla...|  1999-04-01|      1|           Valve|    Valve|windows;mac;linux|           0|Multi-player;Onli...|             Action|Action;FPS;Multip...|           0|            3318|             633|             277|             62| 5000000-10000000| 3.99|                      2.0|\n",
            "|   30|       Day of Defeat|  2003-05-01|      1|           Valve|    Valve|windows;mac;linux|           0|Multi-player;Valv...|             Action|FPS;World War II;...|           0|            3416|             398|             187|             34| 5000000-10000000| 3.99|                      2.0|\n",
            "|   40|  Deathmatch Classic|  2001-06-01|      1|           Valve|    Valve|windows;mac;linux|           0|Multi-player;Onli...|             Action|Action;FPS;Multip...|           0|            1273|             267|             258|            184| 5000000-10000000| 3.99|                      2.0|\n",
            "|   50|Half-Life: Opposi...|  1999-11-01|      1|Gearbox Software|    Valve|windows;mac;linux|           0|Single-player;Mul...|             Action|   FPS;Action;Sci-fi|           0|            5250|             288|             624|            415| 5000000-10000000| 3.99|                      2.0|\n",
            "|   60|            Ricochet|  2000-11-01|      1|           Valve|    Valve|windows;mac;linux|           0|Multi-player;Onli...|             Action|Action;FPS;Multip...|           0|            2758|             684|             175|             10| 5000000-10000000| 3.99|                      2.0|\n",
            "|   70|           Half-Life|  1998-11-08|      1|           Valve|    Valve|windows;mac;linux|           0|Single-player;Mul...|             Action|  FPS;Classic;Action|           0|           27755|            1100|            1300|             83| 5000000-10000000| 7.19|                      2.0|\n",
            "|   80|Counter-Strike: C...|  2004-03-01|      1|           Valve|    Valve|windows;mac;linux|           0|Single-player;Mul...|             Action|Action;FPS;Multip...|           0|           12120|            1439|             427|             43|10000000-20000000| 7.19|                      2.0|\n",
            "|  130|Half-Life: Blue S...|  2001-06-01|      1|Gearbox Software|    Valve|windows;mac;linux|           0|       Single-player|             Action|   FPS;Action;Sci-fi|           0|            3822|             420|             361|            205| 5000000-10000000| 3.99|                      2.0|\n",
            "|  220|         Half-Life 2|  2004-11-16|      1|           Valve|    Valve|windows;mac;linux|           0|Single-player;Ste...|             Action|   FPS;Action;Sci-fi|          33|           67902|            2419|             691|            402|10000000-20000000| 7.19|                      2.0|\n",
            "|  240|Counter-Strike: S...|  2004-11-01|      1|           Valve|    Valve|windows;mac;linux|           0|Multi-player;Cros...|             Action|Action;FPS;Multip...|         147|           76640|            3497|            6842|            400|10000000-20000000| 7.19|                      2.0|\n",
            "|  280|   Half-Life: Source|  2004-06-01|      1|           Valve|    Valve|windows;mac;linux|           0|       Single-player|             Action|   FPS;Action;Sci-fi|           0|            3767|            1053|             190|            214|  2000000-5000000|  0.0|                      2.0|\n",
            "|  300|Day of Defeat: So...|  2010-07-12|      1|           Valve|    Valve|windows;mac;linux|           0|Multi-player;Cros...|             Action|FPS;World War II;...|          54|           10489|            1210|            1356|            134| 5000000-10000000| 7.19|                      2.0|\n",
            "|  320|Half-Life 2: Deat...|  2004-11-01|      1|           Valve|    Valve|windows;mac;linux|           0|Multi-player;Valv...|             Action|Action;FPS;Multip...|           0|            6020|             787|             311|             32|10000000-20000000| 3.99|                      2.0|\n",
            "|  340|Half-Life 2: Lost...|  2005-10-27|      1|           Valve|    Valve|windows;mac;linux|           0|Single-player;Com...|             Action|FPS;Action;Single...|           0|            5783|            1020|              46|             29|10000000-20000000|  0.0|                      2.0|\n",
            "|  360|Half-Life Deathma...|  2006-05-01|      1|           Valve|    Valve|windows;mac;linux|           0|Multi-player;Valv...|             Action|Action;FPS;Multip...|           0|            1362|             473|             102|             81| 5000000-10000000|  0.0|                      2.0|\n",
            "|  380|Half-Life 2: Epis...|  2006-06-01|      1|           Valve|    Valve|windows;mac;linux|           0|Single-player;Ste...|             Action|   FPS;Action;Sci-fi|          13|            7908|             517|             281|            184| 5000000-10000000| 5.79|                      2.0|\n",
            "|  400|              Portal|  2007-10-10|      1|           Valve|    Valve|windows;mac;linux|           0|Single-player;Ste...|             Action|Puzzle;First-Pers...|          15|           51801|            1080|             288|            137|10000000-20000000| 7.19|                      2.0|\n",
            "|  420|Half-Life 2: Epis...|  2007-10-10|      1|           Valve|    Valve|windows;mac;linux|           0|Single-player;Ste...|             Action|   FPS;Action;Sci-fi|          22|           13902|             696|             354|            301| 5000000-10000000| 5.79|                      2.0|\n",
            "|  440|     Team Fortress 2|  2007-10-10|      1|           Valve|    Valve|windows;mac;linux|           0|Multi-player;Cros...|Action;Free to Play|Free to Play;Mult...|         520|          515879|           34036|            8495|            623|20000000-50000000|  0.0|                      2.0|\n",
            "+-----+--------------------+------------+-------+----------------+---------+-----------------+------------+--------------------+-------------------+--------------------+------------+----------------+----------------+----------------+---------------+-----------------+-----+-------------------------+\n",
            "only showing top 20 rows\n",
            "\n"
          ]
        }
      ]
    },
    {
      "cell_type": "code",
      "source": [
        "## Drop the columns\n",
        "df_py3 = df_py2.drop('required_age After 2 year')\n",
        "df_py3.show()"
      ],
      "metadata": {
        "colab": {
          "base_uri": "https://localhost:8080/"
        },
        "id": "XRo_q_cUA7aV",
        "outputId": "e098a207-f8e1-4ae8-ba01-6d94b2ac06cf"
      },
      "execution_count": 43,
      "outputs": [
        {
          "output_type": "stream",
          "name": "stdout",
          "text": [
            "+-----+--------------------+------------+-------+----------------+---------+-----------------+------------+--------------------+-------------------+--------------------+------------+----------------+----------------+----------------+---------------+-----------------+-----+\n",
            "|appid|                name|release_date|english|       developer|publisher|        platforms|required_age|          categories|             genres|       steamspy_tags|achievements|positive_ratings|negative_ratings|average_playtime|median_playtime|           owners|price|\n",
            "+-----+--------------------+------------+-------+----------------+---------+-----------------+------------+--------------------+-------------------+--------------------+------------+----------------+----------------+----------------+---------------+-----------------+-----+\n",
            "|   10|      Counter-Strike|  2000-11-01|      1|           Valve|    Valve|windows;mac;linux|           0|Multi-player;Onli...|             Action|Action;FPS;Multip...|           0|          124534|            3339|           17612|            317|10000000-20000000| 7.19|\n",
            "|   20|Team Fortress Cla...|  1999-04-01|      1|           Valve|    Valve|windows;mac;linux|           0|Multi-player;Onli...|             Action|Action;FPS;Multip...|           0|            3318|             633|             277|             62| 5000000-10000000| 3.99|\n",
            "|   30|       Day of Defeat|  2003-05-01|      1|           Valve|    Valve|windows;mac;linux|           0|Multi-player;Valv...|             Action|FPS;World War II;...|           0|            3416|             398|             187|             34| 5000000-10000000| 3.99|\n",
            "|   40|  Deathmatch Classic|  2001-06-01|      1|           Valve|    Valve|windows;mac;linux|           0|Multi-player;Onli...|             Action|Action;FPS;Multip...|           0|            1273|             267|             258|            184| 5000000-10000000| 3.99|\n",
            "|   50|Half-Life: Opposi...|  1999-11-01|      1|Gearbox Software|    Valve|windows;mac;linux|           0|Single-player;Mul...|             Action|   FPS;Action;Sci-fi|           0|            5250|             288|             624|            415| 5000000-10000000| 3.99|\n",
            "|   60|            Ricochet|  2000-11-01|      1|           Valve|    Valve|windows;mac;linux|           0|Multi-player;Onli...|             Action|Action;FPS;Multip...|           0|            2758|             684|             175|             10| 5000000-10000000| 3.99|\n",
            "|   70|           Half-Life|  1998-11-08|      1|           Valve|    Valve|windows;mac;linux|           0|Single-player;Mul...|             Action|  FPS;Classic;Action|           0|           27755|            1100|            1300|             83| 5000000-10000000| 7.19|\n",
            "|   80|Counter-Strike: C...|  2004-03-01|      1|           Valve|    Valve|windows;mac;linux|           0|Single-player;Mul...|             Action|Action;FPS;Multip...|           0|           12120|            1439|             427|             43|10000000-20000000| 7.19|\n",
            "|  130|Half-Life: Blue S...|  2001-06-01|      1|Gearbox Software|    Valve|windows;mac;linux|           0|       Single-player|             Action|   FPS;Action;Sci-fi|           0|            3822|             420|             361|            205| 5000000-10000000| 3.99|\n",
            "|  220|         Half-Life 2|  2004-11-16|      1|           Valve|    Valve|windows;mac;linux|           0|Single-player;Ste...|             Action|   FPS;Action;Sci-fi|          33|           67902|            2419|             691|            402|10000000-20000000| 7.19|\n",
            "|  240|Counter-Strike: S...|  2004-11-01|      1|           Valve|    Valve|windows;mac;linux|           0|Multi-player;Cros...|             Action|Action;FPS;Multip...|         147|           76640|            3497|            6842|            400|10000000-20000000| 7.19|\n",
            "|  280|   Half-Life: Source|  2004-06-01|      1|           Valve|    Valve|windows;mac;linux|           0|       Single-player|             Action|   FPS;Action;Sci-fi|           0|            3767|            1053|             190|            214|  2000000-5000000|  0.0|\n",
            "|  300|Day of Defeat: So...|  2010-07-12|      1|           Valve|    Valve|windows;mac;linux|           0|Multi-player;Cros...|             Action|FPS;World War II;...|          54|           10489|            1210|            1356|            134| 5000000-10000000| 7.19|\n",
            "|  320|Half-Life 2: Deat...|  2004-11-01|      1|           Valve|    Valve|windows;mac;linux|           0|Multi-player;Valv...|             Action|Action;FPS;Multip...|           0|            6020|             787|             311|             32|10000000-20000000| 3.99|\n",
            "|  340|Half-Life 2: Lost...|  2005-10-27|      1|           Valve|    Valve|windows;mac;linux|           0|Single-player;Com...|             Action|FPS;Action;Single...|           0|            5783|            1020|              46|             29|10000000-20000000|  0.0|\n",
            "|  360|Half-Life Deathma...|  2006-05-01|      1|           Valve|    Valve|windows;mac;linux|           0|Multi-player;Valv...|             Action|Action;FPS;Multip...|           0|            1362|             473|             102|             81| 5000000-10000000|  0.0|\n",
            "|  380|Half-Life 2: Epis...|  2006-06-01|      1|           Valve|    Valve|windows;mac;linux|           0|Single-player;Ste...|             Action|   FPS;Action;Sci-fi|          13|            7908|             517|             281|            184| 5000000-10000000| 5.79|\n",
            "|  400|              Portal|  2007-10-10|      1|           Valve|    Valve|windows;mac;linux|           0|Single-player;Ste...|             Action|Puzzle;First-Pers...|          15|           51801|            1080|             288|            137|10000000-20000000| 7.19|\n",
            "|  420|Half-Life 2: Epis...|  2007-10-10|      1|           Valve|    Valve|windows;mac;linux|           0|Single-player;Ste...|             Action|   FPS;Action;Sci-fi|          22|           13902|             696|             354|            301| 5000000-10000000| 5.79|\n",
            "|  440|     Team Fortress 2|  2007-10-10|      1|           Valve|    Valve|windows;mac;linux|           0|Multi-player;Cros...|Action;Free to Play|Free to Play;Mult...|         520|          515879|           34036|            8495|            623|20000000-50000000|  0.0|\n",
            "+-----+--------------------+------------+-------+----------------+---------+-----------------+------------+--------------------+-------------------+--------------------+------------+----------------+----------------+----------------+---------------+-----------------+-----+\n",
            "only showing top 20 rows\n",
            "\n"
          ]
        }
      ]
    },
    {
      "cell_type": "code",
      "source": [
        "## Rename the columns\n",
        "df_pyspark.withColumnRenamed('name', 'New Name').show()"
      ],
      "metadata": {
        "colab": {
          "base_uri": "https://localhost:8080/"
        },
        "id": "bPv8gXxCBQOs",
        "outputId": "e186dc55-aca7-4fc7-ad6f-54d61bfa00c1"
      },
      "execution_count": 44,
      "outputs": [
        {
          "output_type": "stream",
          "name": "stdout",
          "text": [
            "+-----+--------------------+------------+-------+----------------+---------+-----------------+------------+--------------------+-------------------+--------------------+------------+----------------+----------------+----------------+---------------+-----------------+-----+\n",
            "|appid|            New Name|release_date|english|       developer|publisher|        platforms|required_age|          categories|             genres|       steamspy_tags|achievements|positive_ratings|negative_ratings|average_playtime|median_playtime|           owners|price|\n",
            "+-----+--------------------+------------+-------+----------------+---------+-----------------+------------+--------------------+-------------------+--------------------+------------+----------------+----------------+----------------+---------------+-----------------+-----+\n",
            "|   10|      Counter-Strike|  2000-11-01|      1|           Valve|    Valve|windows;mac;linux|           0|Multi-player;Onli...|             Action|Action;FPS;Multip...|           0|          124534|            3339|           17612|            317|10000000-20000000| 7.19|\n",
            "|   20|Team Fortress Cla...|  1999-04-01|      1|           Valve|    Valve|windows;mac;linux|           0|Multi-player;Onli...|             Action|Action;FPS;Multip...|           0|            3318|             633|             277|             62| 5000000-10000000| 3.99|\n",
            "|   30|       Day of Defeat|  2003-05-01|      1|           Valve|    Valve|windows;mac;linux|           0|Multi-player;Valv...|             Action|FPS;World War II;...|           0|            3416|             398|             187|             34| 5000000-10000000| 3.99|\n",
            "|   40|  Deathmatch Classic|  2001-06-01|      1|           Valve|    Valve|windows;mac;linux|           0|Multi-player;Onli...|             Action|Action;FPS;Multip...|           0|            1273|             267|             258|            184| 5000000-10000000| 3.99|\n",
            "|   50|Half-Life: Opposi...|  1999-11-01|      1|Gearbox Software|    Valve|windows;mac;linux|           0|Single-player;Mul...|             Action|   FPS;Action;Sci-fi|           0|            5250|             288|             624|            415| 5000000-10000000| 3.99|\n",
            "|   60|            Ricochet|  2000-11-01|      1|           Valve|    Valve|windows;mac;linux|           0|Multi-player;Onli...|             Action|Action;FPS;Multip...|           0|            2758|             684|             175|             10| 5000000-10000000| 3.99|\n",
            "|   70|           Half-Life|  1998-11-08|      1|           Valve|    Valve|windows;mac;linux|           0|Single-player;Mul...|             Action|  FPS;Classic;Action|           0|           27755|            1100|            1300|             83| 5000000-10000000| 7.19|\n",
            "|   80|Counter-Strike: C...|  2004-03-01|      1|           Valve|    Valve|windows;mac;linux|           0|Single-player;Mul...|             Action|Action;FPS;Multip...|           0|           12120|            1439|             427|             43|10000000-20000000| 7.19|\n",
            "|  130|Half-Life: Blue S...|  2001-06-01|      1|Gearbox Software|    Valve|windows;mac;linux|           0|       Single-player|             Action|   FPS;Action;Sci-fi|           0|            3822|             420|             361|            205| 5000000-10000000| 3.99|\n",
            "|  220|         Half-Life 2|  2004-11-16|      1|           Valve|    Valve|windows;mac;linux|           0|Single-player;Ste...|             Action|   FPS;Action;Sci-fi|          33|           67902|            2419|             691|            402|10000000-20000000| 7.19|\n",
            "|  240|Counter-Strike: S...|  2004-11-01|      1|           Valve|    Valve|windows;mac;linux|           0|Multi-player;Cros...|             Action|Action;FPS;Multip...|         147|           76640|            3497|            6842|            400|10000000-20000000| 7.19|\n",
            "|  280|   Half-Life: Source|  2004-06-01|      1|           Valve|    Valve|windows;mac;linux|           0|       Single-player|             Action|   FPS;Action;Sci-fi|           0|            3767|            1053|             190|            214|  2000000-5000000|  0.0|\n",
            "|  300|Day of Defeat: So...|  2010-07-12|      1|           Valve|    Valve|windows;mac;linux|           0|Multi-player;Cros...|             Action|FPS;World War II;...|          54|           10489|            1210|            1356|            134| 5000000-10000000| 7.19|\n",
            "|  320|Half-Life 2: Deat...|  2004-11-01|      1|           Valve|    Valve|windows;mac;linux|           0|Multi-player;Valv...|             Action|Action;FPS;Multip...|           0|            6020|             787|             311|             32|10000000-20000000| 3.99|\n",
            "|  340|Half-Life 2: Lost...|  2005-10-27|      1|           Valve|    Valve|windows;mac;linux|           0|Single-player;Com...|             Action|FPS;Action;Single...|           0|            5783|            1020|              46|             29|10000000-20000000|  0.0|\n",
            "|  360|Half-Life Deathma...|  2006-05-01|      1|           Valve|    Valve|windows;mac;linux|           0|Multi-player;Valv...|             Action|Action;FPS;Multip...|           0|            1362|             473|             102|             81| 5000000-10000000|  0.0|\n",
            "|  380|Half-Life 2: Epis...|  2006-06-01|      1|           Valve|    Valve|windows;mac;linux|           0|Single-player;Ste...|             Action|   FPS;Action;Sci-fi|          13|            7908|             517|             281|            184| 5000000-10000000| 5.79|\n",
            "|  400|              Portal|  2007-10-10|      1|           Valve|    Valve|windows;mac;linux|           0|Single-player;Ste...|             Action|Puzzle;First-Pers...|          15|           51801|            1080|             288|            137|10000000-20000000| 7.19|\n",
            "|  420|Half-Life 2: Epis...|  2007-10-10|      1|           Valve|    Valve|windows;mac;linux|           0|Single-player;Ste...|             Action|   FPS;Action;Sci-fi|          22|           13902|             696|             354|            301| 5000000-10000000| 5.79|\n",
            "|  440|     Team Fortress 2|  2007-10-10|      1|           Valve|    Valve|windows;mac;linux|           0|Multi-player;Cros...|Action;Free to Play|Free to Play;Mult...|         520|          515879|           34036|            8495|            623|20000000-50000000|  0.0|\n",
            "+-----+--------------------+------------+-------+----------------+---------+-----------------+------------+--------------------+-------------------+--------------------+------------+----------------+----------------+----------------+---------------+-----------------+-----+\n",
            "only showing top 20 rows\n",
            "\n"
          ]
        }
      ]
    },
    {
      "cell_type": "code",
      "source": [],
      "metadata": {
        "id": "OzbZLqOJBmsT"
      },
      "execution_count": null,
      "outputs": []
    }
  ]
}